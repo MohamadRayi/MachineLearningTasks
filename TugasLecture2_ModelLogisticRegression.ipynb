{
  "nbformat": 4,
  "nbformat_minor": 0,
  "metadata": {
    "colab": {
      "provenance": [],
      "mount_file_id": "10kFeuNRtqclqOsfxOh8ZS8pxxXjlkdFf",
      "authorship_tag": "ABX9TyNJwAG/JRpvN8xOe6bVnD6i",
      "include_colab_link": true
    },
    "kernelspec": {
      "name": "python3",
      "display_name": "Python 3"
    },
    "language_info": {
      "name": "python"
    }
  },
  "cells": [
    {
      "cell_type": "markdown",
      "metadata": {
        "id": "view-in-github",
        "colab_type": "text"
      },
      "source": [
        "<a href=\"https://colab.research.google.com/github/MohamadRayi/MachineLearningTasks/blob/main/TugasLecture2_ModelLogisticRegression.ipynb\" target=\"_parent\"><img src=\"https://colab.research.google.com/assets/colab-badge.svg\" alt=\"Open In Colab\"/></a>"
      ]
    },
    {
      "cell_type": "markdown",
      "source": [
        "Nama : Mohamad Rayi Dwi Putra\n",
        "NIM : 1103213070\n",
        "Model : Logistic Regression\n",
        "Dataset : Asuransi (insurence.csv)\n",
        "Dokumentasi Prompt ChatGPT : https://chat.openai.com/share/403f0fb1-c64d-4aec-a096-f8591ec7a237"
      ],
      "metadata": {
        "id": "EzYdaEYZccGf"
      }
    },
    {
      "cell_type": "code",
      "execution_count": null,
      "metadata": {
        "colab": {
          "base_uri": "https://localhost:8080/"
        },
        "id": "4uz3y41wcS9i",
        "outputId": "74c1c343-a38d-441d-8f61-9738c7bb7073"
      },
      "outputs": [
        {
          "output_type": "stream",
          "name": "stdout",
          "text": [
            "Drive already mounted at /content/drive; to attempt to forcibly remount, call drive.mount(\"/content/drive\", force_remount=True).\n",
            "   age     sex     bmi  children smoker     region      charges\n",
            "0   19  female  27.900         0    yes  southwest  16884.92400\n",
            "1   18    male  33.770         1     no  southeast   1725.55230\n",
            "2   28    male  33.000         3     no  southeast   4449.46200\n",
            "3   33    male  22.705         0     no  northwest  21984.47061\n",
            "4   32    male  28.880         0     no  northwest   3866.85520\n",
            "--------------------------------------------------\n",
            "Mean Squared Error (MSE): 33596915.85\n",
            "R-squared: 0.78\n",
            "--------------------------------------------------\n"
          ]
        }
      ],
      "source": [
        "# Import library yang diperlukan\n",
        "import pandas as pd\n",
        "from sklearn.model_selection import train_test_split\n",
        "from sklearn.linear_model import LinearRegression\n",
        "from sklearn.metrics import mean_squared_error, r2_score\n",
        "\n",
        "# Mount Google Drive jika Anda menggunakan Google Colab\n",
        "from google.colab import drive\n",
        "\n",
        "# Mount Google Drive\n",
        "drive.mount('/content/drive')\n",
        "\n",
        "# Path ke file CSV setelah mount drive\n",
        "file_path = \"/content/drive/MyDrive/insurance.csv\"\n",
        "\n",
        "# Membaca dataset dari file CSV\n",
        "dataset = pd.read_csv(file_path)\n",
        "\n",
        "# Menampilkan beberapa baris pertama dari dataset untuk memahami strukturnya\n",
        "print(dataset.head())\n",
        "print(\"-\" * 50)  # Garis untuk pemisah\n",
        "\n",
        "# Memisahkan fitur (features) dan target (target) dari dataset\n",
        "X = dataset.drop('charges', axis=1) # Menghilangkan kolom 'charges' dari fitur\n",
        "y = dataset['charges']\n",
        "\n",
        "# Melakukan one-hot encoding pada fitur-fitur kategorikal\n",
        "X_encoded = pd.get_dummies(X)\n",
        "\n",
        "# Memisahkan data menjadi data latih dan data uji\n",
        "X_train_encoded, X_test_encoded, y_train, y_test = train_test_split(X_encoded, y, test_size=0.2, random_state=42)\n",
        "\n",
        "# Inisialisasi model regresi linier\n",
        "model = LinearRegression()\n",
        "\n",
        "# Melatih model pada data latih yang sudah diencode\n",
        "model.fit(X_train_encoded, y_train)\n",
        "\n",
        "# Memprediksi target untuk data uji\n",
        "predictions = model.predict(X_test_encoded)\n",
        "\n",
        "# Evaluasi model regresi linier\n",
        "mse = mean_squared_error(y_test, predictions)\n",
        "r2 = r2_score(y_test, predictions)\n",
        "\n",
        "# Menampilkan hasil evaluasi\n",
        "print(\"Mean Squared Error (MSE): {:.2f}\".format(mse))\n",
        "print(\"R-squared: {:.2f}\".format(r2))\n",
        "print(\"-\" * 50)  # Garis untuk pemisah\n"
      ]
    }
  ]
}