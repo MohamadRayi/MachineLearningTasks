{
  "nbformat": 4,
  "nbformat_minor": 0,
  "metadata": {
    "colab": {
      "provenance": [],
      "mount_file_id": "1zvuP_ENV5FcKkTOuVhqE1Rs5HTGc86zJ",
      "authorship_tag": "ABX9TyM3Wwvt/VTLryq9nNCFONHA",
      "include_colab_link": true
    },
    "kernelspec": {
      "name": "python3",
      "display_name": "Python 3"
    },
    "language_info": {
      "name": "python"
    }
  },
  "cells": [
    {
      "cell_type": "markdown",
      "metadata": {
        "id": "view-in-github",
        "colab_type": "text"
      },
      "source": [
        "<a href=\"https://colab.research.google.com/github/MohamadRayi/MachineLearningTasks/blob/main/Task_3_Machine_Learning_Model_KNN.ipynb\" target=\"_parent\"><img src=\"https://colab.research.google.com/assets/colab-badge.svg\" alt=\"Open In Colab\"/></a>"
      ]
    },
    {
      "cell_type": "markdown",
      "source": [
        "Nama : Mohamad Rayi Dwi Putra\n",
        "NIM : 1103213070\n",
        "Lecture 3 Model KNN\n",
        "Dataset Iris.csv"
      ],
      "metadata": {
        "id": "4796U3C08kCn"
      }
    },
    {
      "cell_type": "code",
      "execution_count": 5,
      "metadata": {
        "colab": {
          "base_uri": "https://localhost:8080/"
        },
        "id": "mu9y4aVK8a_d",
        "outputId": "5d6882ee-4ac4-4ee9-cdee-9212c8bed1ac"
      },
      "outputs": [
        {
          "output_type": "stream",
          "name": "stdout",
          "text": [
            "Drive already mounted at /content/drive; to attempt to forcibly remount, call drive.mount(\"/content/drive\", force_remount=True).\n",
            "   feature1  feature2  feature3  feature4      species\n",
            "0       5.1       3.5       1.4       0.2  Iris-setosa\n",
            "1       4.9       3.0       1.4       0.2  Iris-setosa\n",
            "2       4.7       3.2       1.3       0.2  Iris-setosa\n",
            "3       4.6       3.1       1.5       0.2  Iris-setosa\n",
            "4       5.0       3.6       1.4       0.2  Iris-setosa\n",
            "\n",
            "Confusion Matrix:\n",
            " [[10  0  0]\n",
            " [ 0  9  0]\n",
            " [ 0  0 11]]\n",
            "\n",
            "Classification Report:\n",
            "                  precision    recall  f1-score   support\n",
            "\n",
            "    Iris-setosa       1.00      1.00      1.00        10\n",
            "Iris-versicolor       1.00      1.00      1.00         9\n",
            " Iris-virginica       1.00      1.00      1.00        11\n",
            "\n",
            "       accuracy                           1.00        30\n",
            "      macro avg       1.00      1.00      1.00        30\n",
            "   weighted avg       1.00      1.00      1.00        30\n",
            "\n"
          ]
        }
      ],
      "source": [
        "# Import library yang diperlukan\n",
        "import pandas as pd  # Import library pandas untuk manipulasi data\n",
        "from sklearn.model_selection import train_test_split  # Import modul train_test_split dari scikit-learn untuk membagi data menjadi data latih dan data uji\n",
        "from sklearn.preprocessing import StandardScaler  # Import StandardScaler untuk standarisasi fitur\n",
        "from sklearn.neighbors import KNeighborsClassifier  # Import KNeighborsClassifier untuk model KNN\n",
        "from sklearn.metrics import classification_report, confusion_matrix  # Import classification_report dan confusion_matrix untuk evaluasi model\n",
        "\n",
        "# Mount Google Drive jika menggunakan Google Colab\n",
        "from google.colab import drive  # Import modul drive dari library google.colab untuk mount Google Drive\n",
        "drive.mount('/content/drive')  # Mount Google Drive pada Colab\n",
        "\n",
        "# Load dataset dari CSV\n",
        "dataset = pd.read_csv('/content/drive/MyDrive/Dataset/iris.data.csv', header=None, delimiter=',')\n",
        "\n",
        "# Menamai kolom sesuai dengan deskripsi yang Anda berikan\n",
        "dataset.columns = ['feature1', 'feature2', 'feature3', 'feature4', 'species']  # Menamai kolom sesuai dengan deskripsi dataset\n",
        "\n",
        "# Menampilkan 5 baris pertama dari dataset\n",
        "print(dataset.head())  # Menampilkan 5 baris pertama dari dataset untuk memeriksa apakah dataset telah dimuat dengan benar\n",
        "\n",
        "# Memisahkan fitur (features) dan target (label)\n",
        "X = dataset.drop('species', axis=1)  # Memisahkan kolom target dari dataset dan menyimpannya di variabel X\n",
        "y = dataset['species']  # Menyimpan kolom target ke dalam variabel y\n",
        "\n",
        "# Membagi data menjadi data latih dan data uji (train-test split)\n",
        "X_train, X_test, y_train, y_test = train_test_split(X, y, test_size=0.2, random_state=42)  # Memisahkan data menjadi data latih dan data uji dengan rasio 80:20\n",
        "\n",
        "# Standarisasi fitur-fitur\n",
        "scaler = StandardScaler()  # Membuat objek StandardScaler untuk standarisasi fitur\n",
        "X_train = scaler.fit_transform(X_train)  # Melakukan standarisasi pada data latih\n",
        "X_test = scaler.transform(X_test)  # Melakukan standarisasi pada data uji\n",
        "\n",
        "# Membuat model KNN\n",
        "classifier = KNeighborsClassifier(n_neighbors=5)  # Membuat objek KNeighborsClassifier dengan 5 tetangga terdekat\n",
        "classifier.fit(X_train, y_train)  # Melatih model KNN menggunakan data latih\n",
        "\n",
        "# Melakukan prediksi pada data uji\n",
        "y_pred = classifier.predict(X_test)  # Melakukan prediksi kelas target untuk data uji\n",
        "\n",
        "# Menampilkan hasil evaluasi model\n",
        "print(\"\\nConfusion Matrix:\\n\", confusion_matrix(y_test, y_pred))  # Menampilkan confusion matrix untuk evaluasi model\n",
        "print(\"\\nClassification Report:\\n\", classification_report(y_test, y_pred))  # Menampilkan classification report untuk evaluasi model\n"
      ]
    }
  ]
}
