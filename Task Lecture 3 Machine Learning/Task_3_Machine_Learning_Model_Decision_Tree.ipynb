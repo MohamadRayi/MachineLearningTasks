{
  "nbformat": 4,
  "nbformat_minor": 0,
  "metadata": {
    "colab": {
      "provenance": [],
      "mount_file_id": "1ciyV-vG_c7cSR8z-OM0iHMfvRu0gW70o",
      "authorship_tag": "ABX9TyOxrCDTw9NOmO2LYUaMFW73",
      "include_colab_link": true
    },
    "kernelspec": {
      "name": "python3",
      "display_name": "Python 3"
    },
    "language_info": {
      "name": "python"
    }
  },
  "cells": [
    {
      "cell_type": "markdown",
      "metadata": {
        "id": "view-in-github",
        "colab_type": "text"
      },
      "source": [
        "<a href=\"https://colab.research.google.com/github/MohamadRayi/MachineLearningTasks/blob/main/Task_3_Machine_Learning_Model_Decision_Tree.ipynb\" target=\"_parent\"><img src=\"https://colab.research.google.com/assets/colab-badge.svg\" alt=\"Open In Colab\"/></a>"
      ]
    },
    {
      "cell_type": "markdown",
      "source": [
        "Nama: Mohamad Rayi Dwi Putra\n",
        "Nim : 1103213070\n",
        "Lecture 3\n",
        "Decision Tree on iris dataset"
      ],
      "metadata": {
        "id": "mgTUlH2aAD1h"
      }
    },
    {
      "cell_type": "code",
      "execution_count": 1,
      "metadata": {
        "colab": {
          "base_uri": "https://localhost:8080/"
        },
        "id": "-i5zvl1z_7lz",
        "outputId": "d05c675a-0337-4ed3-d131-40972b349ef5"
      },
      "outputs": [
        {
          "output_type": "stream",
          "name": "stdout",
          "text": [
            "Akurasi: 1.0\n",
            "==================================================\n",
            "LAPORAN KLASIFIKASI\n",
            "==================================================\n",
            "              precision    recall  f1-score   support\n",
            "\n",
            "      setosa       1.00      1.00      1.00        10\n",
            "  versicolor       1.00      1.00      1.00         9\n",
            "   virginica       1.00      1.00      1.00        11\n",
            "\n",
            "    accuracy                           1.00        30\n",
            "   macro avg       1.00      1.00      1.00        30\n",
            "weighted avg       1.00      1.00      1.00        30\n",
            "\n"
          ]
        }
      ],
      "source": [
        "# Impor library yang diperlukan\n",
        "import pandas as pd  # Untuk manipulasi data\n",
        "from sklearn.datasets import load_iris  # Untuk memuat dataset iris\n",
        "from sklearn.model_selection import train_test_split  # Untuk membagi dataset menjadi data pelatihan dan pengujian\n",
        "from sklearn.tree import DecisionTreeClassifier  # Untuk membuat model Decision Tree\n",
        "from sklearn.metrics import accuracy_score, classification_report  # Untuk mengevaluasi kinerja model\n",
        "\n",
        "# Memuat dataset iris dari scikit-learn\n",
        "iris = load_iris()\n",
        "\n",
        "# Membuat DataFrame dari dataset iris\n",
        "dataset = pd.DataFrame(data=iris.data, columns=iris.feature_names)\n",
        "dataset['label'] = iris.target_names[iris.target]\n",
        "\n",
        "# Memisahkan dataset menjadi fitur (X) dan label (y)\n",
        "X = dataset.drop('label', axis=1)  # Fitur adalah semua kolom kecuali kolom label\n",
        "y = dataset['label']  # Label adalah kolom 'label'\n",
        "\n",
        "# Membagi dataset menjadi data pelatihan dan pengujian (80% untuk pelatihan, 20% untuk pengujian)\n",
        "X_train, X_test, y_train, y_test = train_test_split(X, y, test_size=0.2, random_state=42)\n",
        "\n",
        "# Membuat model Decision Tree\n",
        "model = DecisionTreeClassifier()\n",
        "\n",
        "# Melatih model pada data pelatihan\n",
        "model.fit(X_train, y_train)\n",
        "\n",
        "# Memprediksi label untuk data pengujian\n",
        "predictions = model.predict(X_test)\n",
        "\n",
        "# Mengukur akurasi model\n",
        "accuracy = accuracy_score(y_test, predictions)\n",
        "print(\"Akurasi:\", accuracy)\n",
        "\n",
        "# Garis horizontal sebelum mencetak laporan klasifikasi\n",
        "print(\"=\"*50)\n",
        "print(\"LAPORAN KLASIFIKASI\")\n",
        "print(\"=\"*50)\n",
        "\n",
        "# Mencetak laporan klasifikasi\n",
        "print(classification_report(y_test, predictions))\n"
      ]
    },
    {
      "cell_type": "code",
      "source": [
        "from google.colab import drive\n",
        "drive.mount('/content/drive')"
      ],
      "metadata": {
        "id": "k7-fbddcDQq8"
      },
      "execution_count": null,
      "outputs": []
    }
  ]
}
