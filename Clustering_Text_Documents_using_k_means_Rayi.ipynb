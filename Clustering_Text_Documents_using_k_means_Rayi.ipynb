{
  "nbformat": 4,
  "nbformat_minor": 0,
  "metadata": {
    "colab": {
      "provenance": [],
      "authorship_tag": "ABX9TyOFzvEMrOK/xVtjWTqWmBPA",
      "include_colab_link": true
    },
    "kernelspec": {
      "name": "python3",
      "display_name": "Python 3"
    },
    "language_info": {
      "name": "python"
    }
  },
  "cells": [
    {
      "cell_type": "markdown",
      "metadata": {
        "id": "view-in-github",
        "colab_type": "text"
      },
      "source": [
        "<a href=\"https://colab.research.google.com/github/MohamadRayi/MachineLearningTasks/blob/main/Clustering_Text_Documents_using_k_means_Rayi.ipynb\" target=\"_parent\"><img src=\"https://colab.research.google.com/assets/colab-badge.svg\" alt=\"Open In Colab\"/></a>"
      ]
    },
    {
      "cell_type": "markdown",
      "source": [
        "Nama : Mohamad Rayi Dwi Putra\n",
        "NIM : 1103213070\n",
        "Task 6 Clustering\n",
        "**Clustering text documents using k-means**"
      ],
      "metadata": {
        "id": "N3YL9EG_a5MO"
      }
    },
    {
      "cell_type": "markdown",
      "source": [
        "**Loading text data**"
      ],
      "metadata": {
        "id": "Ylm1KBPZbLWi"
      }
    },
    {
      "cell_type": "code",
      "execution_count": 9,
      "metadata": {
        "colab": {
          "base_uri": "https://localhost:8080/"
        },
        "id": "0PmwAHOuak5z",
        "outputId": "1e4aff87-a0b9-4aaf-a764-0c597442e3f7"
      },
      "outputs": [
        {
          "output_type": "stream",
          "name": "stdout",
          "text": [
            "3387 documents - 4 categories\n"
          ]
        }
      ],
      "source": [
        "import numpy as np\n",
        "from sklearn.datasets import fetch_20newsgroups\n",
        "\n",
        "# Definisikan kategori-kategori yang ingin dimuat dari dataset 20newsgroups\n",
        "categories = [\n",
        "    \"alt.atheism\",\n",
        "    \"talk.religion.misc\",\n",
        "    \"comp.graphics\",\n",
        "    \"sci.space\",\n",
        "]\n",
        "\n",
        "# Muat dataset 20newsgroups dengan kategori-kategori yang ditentukan\n",
        "dataset = fetch_20newsgroups(\n",
        "    remove=(\"headers\", \"footers\", \"quotes\"),  # Menghapus bagian tertentu dari data\n",
        "    subset=\"all\",  # Menggunakan seluruh dataset\n",
        "    categories=categories,  # Hanya mengambil data dari kategori yang ditentukan\n",
        "    shuffle=True,  # Mengacak urutan data\n",
        "    random_state=42,  # Seed untuk reproduktibilitas\n",
        ")\n",
        "\n",
        "# Ambil label-label dari dataset\n",
        "labels = dataset.target\n",
        "\n",
        "# Hitung jumlah unik label dan ukuran setiap kategori\n",
        "unique_labels, category_sizes = np.unique(labels, return_counts=True)\n",
        "true_k = unique_labels.shape[0]\n",
        "\n",
        "# Cetak informasi tentang dataset\n",
        "print(f\"{len(dataset.data)} documents - {true_k} categories\")\n"
      ]
    },
    {
      "cell_type": "markdown",
      "source": [
        "**Quantifying the quality of clustering results**"
      ],
      "metadata": {
        "id": "j2Tz6J5DbPRN"
      }
    },
    {
      "cell_type": "code",
      "source": [
        "from collections import defaultdict\n",
        "from time import time\n",
        "import numpy as np\n",
        "from sklearn import metrics\n",
        "\n",
        "# Daftar untuk menyimpan hasil evaluasi\n",
        "evaluations = []\n",
        "evaluations_std = []\n",
        "\n",
        "# Fungsi untuk melatih model dan mengevaluasinya\n",
        "def fit_and_evaluate(km, X, name=None, n_runs=5):\n",
        "    # Jika nama tidak ditentukan, gunakan nama kelas estimator\n",
        "    name = km.__class__.__name__ if name is None else name\n",
        "\n",
        "    # Daftar untuk menyimpan waktu pelatihan\n",
        "    train_times = []\n",
        "\n",
        "    # Dictionary untuk menyimpan skor evaluasi\n",
        "    scores = defaultdict(list)\n",
        "\n",
        "    # Lakukan beberapa percobaan pelatihan untuk mendapatkan rata-rata dan standar deviasi\n",
        "    for seed in range(n_runs):\n",
        "        km.set_params(random_state=seed)  # Atur seed acak untuk reproduktibilitas\n",
        "        t0 = time()  # Catat waktu awal\n",
        "        km.fit(X)  # Latih model\n",
        "        train_times.append(time() - t0)  # Hitung waktu pelatihan\n",
        "        # Hitung skor evaluasi\n",
        "        scores[\"Homogeneity\"].append(metrics.homogeneity_score(labels, km.labels_))\n",
        "        scores[\"Completeness\"].append(metrics.completeness_score(labels, km.labels_))\n",
        "        scores[\"V-measure\"].append(metrics.v_measure_score(labels, km.labels_))\n",
        "        scores[\"Adjusted Rand-Index\"].append(metrics.adjusted_rand_score(labels, km.labels_))\n",
        "        scores[\"Silhouette Coefficient\"].append(\n",
        "            metrics.silhouette_score(X, km.labels_, sample_size=2000)\n",
        "        )\n",
        "    train_times = np.asarray(train_times)  # Konversi daftar waktu pelatihan ke dalam array numpy\n",
        "\n",
        "    # Cetak informasi tentang waktu pelatihan dan skor evaluasi\n",
        "    print(f\"clustering done in {train_times.mean():.2f} ± {train_times.std():.2f} s \")\n",
        "    evaluation = {\n",
        "        \"estimator\": name,\n",
        "        \"train_time\": train_times.mean(),\n",
        "    }\n",
        "    evaluation_std = {\n",
        "        \"estimator\": name,\n",
        "        \"train_time\": train_times.std(),\n",
        "    }\n",
        "    # Iterasi melalui skor evaluasi dan tambahkan ke dalam dictionary hasil evaluasi\n",
        "    for score_name, score_values in scores.items():\n",
        "        mean_score, std_score = np.mean(score_values), np.std(score_values)\n",
        "        print(f\"{score_name}: {mean_score:.3f} ± {std_score:.3f}\")\n",
        "        evaluation[score_name] = mean_score\n",
        "        evaluation_std[score_name] = std_score\n",
        "    evaluations.append(evaluation)  # Tambahkan hasil evaluasi ke dalam daftar hasil evaluasi\n",
        "    evaluations_std.append(evaluation_std)  # Tambahkan hasil evaluasi standar deviasi ke dalam daftar hasil evaluasi\n",
        "\n",
        "# Untuk mereproduksi kode, Anda memerlukan definisi dataset dan label\n",
        "# serta model yang akan dievaluasi. Pastikan Anda telah menentukan dataset dan labelnya sebelum menjalankan fungsi ini.\n",
        "# Sebagai contoh, Anda dapat menggunakan dataset dan label yang diperoleh dari kode sebelumnya.\n",
        "# Juga, pastikan model (misalnya KMeans) telah didefinisikan sebelumnya.\n",
        "# Untuk menjalankan fungsi fit_and_evaluate, Anda dapat memanggilnya seperti ini:\n",
        "# fit_and_evaluate(model, X)\n"
      ],
      "metadata": {
        "id": "DdkWtKtGbeKC"
      },
      "execution_count": 10,
      "outputs": []
    },
    {
      "cell_type": "markdown",
      "source": [
        "**Feature Extraction using TfidfVectorizer**"
      ],
      "metadata": {
        "id": "KgUfp4gsbiVt"
      }
    },
    {
      "cell_type": "code",
      "source": [
        "from sklearn.feature_extraction.text import TfidfVectorizer\n",
        "from time import time\n",
        "\n",
        "# Definisikan objek TfidfVectorizer dengan parameter yang sama seperti sebelumnya\n",
        "vectorizer = TfidfVectorizer(\n",
        "    max_df=0.5,\n",
        "    min_df=5,\n",
        "    stop_words=\"english\",\n",
        ")\n",
        "\n",
        "# Catat waktu awal\n",
        "t0 = time()\n",
        "\n",
        "# Lakukan vektorisasi pada dataset\n",
        "X_tfidf = vectorizer.fit_transform(dataset.data)\n",
        "\n",
        "# Cetak informasi tentang waktu yang diperlukan untuk vektorisasi\n",
        "print(f\"vectorization done in {time() - t0:.3f} s\")\n",
        "\n",
        "# Cetak informasi tentang ukuran dataset hasil vektorisasi\n",
        "print(f\"n_samples: {X_tfidf.shape[0]}, n_features: {X_tfidf.shape[1]}\")\n",
        "\n",
        "# Cetak densitas dari matriks hasil vektorisasi\n",
        "print(f\"{X_tfidf.nnz / np.prod(X_tfidf.shape):.3f}\")\n"
      ],
      "metadata": {
        "colab": {
          "base_uri": "https://localhost:8080/"
        },
        "id": "dzTZ8nGmbu9r",
        "outputId": "f3063f85-3e98-4bff-918f-fbf9b6aea099"
      },
      "execution_count": 11,
      "outputs": [
        {
          "output_type": "stream",
          "name": "stdout",
          "text": [
            "vectorization done in 0.671 s\n",
            "n_samples: 3387, n_features: 7929\n",
            "0.007\n"
          ]
        }
      ]
    },
    {
      "cell_type": "markdown",
      "source": [
        "**Clustering sparse data with k-means**"
      ],
      "metadata": {
        "id": "WKX63Cakb_a4"
      }
    },
    {
      "cell_type": "code",
      "source": [
        "from sklearn.cluster import KMeans\n",
        "\n",
        "# Lakukan clustering dengan KMeans untuk beberapa seed acak\n",
        "for seed in range(5):\n",
        "    kmeans = KMeans(\n",
        "        n_clusters=true_k,\n",
        "        max_iter=100,\n",
        "        n_init=1,\n",
        "        random_state=seed,\n",
        "    ).fit(X_tfidf)\n",
        "    cluster_ids, cluster_sizes = np.unique(kmeans.labels_, return_counts=True)\n",
        "    print(f\"Number of elements assigned to each cluster: {cluster_sizes}\")\n",
        "\n",
        "# Cetak informasi tentang jumlah dokumen sesungguhnya dalam setiap kategori berdasarkan label kelas\n",
        "print()\n",
        "print(\n",
        "    \"True number of documents in each category according to the class labels: \"\n",
        "    f\"{category_sizes}\"\n",
        ")\n",
        "\n",
        "# Inisialisasi KMeans untuk evaluasi\n",
        "kmeans = KMeans(\n",
        "    n_clusters=true_k,\n",
        "    max_iter=100,\n",
        "    n_init=5,\n",
        ")\n",
        "\n",
        "# Evaluasi KMeans menggunakan fungsi yang telah didefinisikan sebelumnya\n",
        "fit_and_evaluate(kmeans, X_tfidf, name=\"KMeans\\non tf-idf vectors\")\n"
      ],
      "metadata": {
        "colab": {
          "base_uri": "https://localhost:8080/"
        },
        "id": "FMfPx2fUb_x3",
        "outputId": "ca65397e-2155-4d83-8164-e30548a79b26"
      },
      "execution_count": 12,
      "outputs": [
        {
          "output_type": "stream",
          "name": "stdout",
          "text": [
            "Number of elements assigned to each cluster: [   1    1 3384    1]\n",
            "Number of elements assigned to each cluster: [1597  732  233  825]\n",
            "Number of elements assigned to each cluster: [2004  446  646  291]\n",
            "Number of elements assigned to each cluster: [1695  649  446  597]\n",
            "Number of elements assigned to each cluster: [ 254 2117  459  557]\n",
            "\n",
            "True number of documents in each category according to the class labels: [799 973 987 628]\n",
            "clustering done in 0.34 ± 0.18 s \n",
            "Homogeneity: 0.336 ± 0.026\n",
            "Completeness: 0.400 ± 0.008\n",
            "V-measure: 0.365 ± 0.014\n",
            "Adjusted Rand-Index: 0.202 ± 0.012\n",
            "Silhouette Coefficient: 0.008 ± 0.002\n"
          ]
        }
      ]
    },
    {
      "cell_type": "markdown",
      "source": [
        "**Performing dimensionality reduction using LSA**"
      ],
      "metadata": {
        "id": "Qt-ZkK_bcqBy"
      }
    },
    {
      "cell_type": "code",
      "source": [
        "from sklearn.decomposition import TruncatedSVD\n",
        "from sklearn.pipeline import make_pipeline\n",
        "from sklearn.preprocessing import Normalizer\n",
        "from sklearn.cluster import MiniBatchKMeans\n",
        "\n",
        "# Pipeline untuk LSA\n",
        "lsa = make_pipeline(TruncatedSVD(n_components=100), Normalizer(copy=False))\n",
        "t0 = time()\n",
        "X_lsa = lsa.fit_transform(X_tfidf)\n",
        "explained_variance = lsa[0].explained_variance_ratio_.sum()\n",
        "print(f\"LSA done in {time() - t0:.3f} s\")\n",
        "print(f\"Explained variance of the SVD step: {explained_variance * 100:.1f}%\")\n",
        "\n",
        "# KMeans dengan LSA\n",
        "kmeans = KMeans(\n",
        "    n_clusters=true_k,\n",
        "    max_iter=100,\n",
        "    n_init=1,\n",
        ")\n",
        "fit_and_evaluate(kmeans, X_lsa, name=\"KMeans\\nwith LSA on tf-idf vectors\")\n",
        "\n",
        "# MiniBatchKMeans dengan LSA\n",
        "minibatch_kmeans = MiniBatchKMeans(\n",
        "    n_clusters=true_k,\n",
        "    n_init=1,\n",
        "    init_size=1000,\n",
        "    batch_size=1000,\n",
        ")\n",
        "fit_and_evaluate(\n",
        "    minibatch_kmeans,\n",
        "    X_lsa,\n",
        "    name=\"MiniBatchKMeans\\nwith LSA on tf-idf vectors\",\n",
        ")\n"
      ],
      "metadata": {
        "colab": {
          "base_uri": "https://localhost:8080/"
        },
        "id": "LvehLFxZcqqq",
        "outputId": "3364ec4b-27bd-4b4e-c9a4-47d8b5af6043"
      },
      "execution_count": 13,
      "outputs": [
        {
          "output_type": "stream",
          "name": "stdout",
          "text": [
            "LSA done in 0.665 s\n",
            "Explained variance of the SVD step: 18.4%\n",
            "clustering done in 0.14 ± 0.02 s \n",
            "Homogeneity: 0.386 ± 0.027\n",
            "Completeness: 0.454 ± 0.047\n",
            "V-measure: 0.416 ± 0.029\n",
            "Adjusted Rand-Index: 0.314 ± 0.042\n",
            "Silhouette Coefficient: 0.026 ± 0.008\n",
            "clustering done in 0.12 ± 0.04 s \n",
            "Homogeneity: 0.417 ± 0.012\n",
            "Completeness: 0.433 ± 0.018\n",
            "V-measure: 0.425 ± 0.014\n",
            "Adjusted Rand-Index: 0.390 ± 0.030\n",
            "Silhouette Coefficient: 0.027 ± 0.002\n"
          ]
        }
      ]
    },
    {
      "cell_type": "markdown",
      "source": [
        "**Top terms per cluster**"
      ],
      "metadata": {
        "id": "YeXXnPetc0wb"
      }
    },
    {
      "cell_type": "code",
      "source": [
        "# Mendapatkan pusat klaster kembali ke ruang asli\n",
        "original_space_centroids = lsa[0].inverse_transform(kmeans.cluster_centers_)\n",
        "# Mengurutkan indeks pusat klaster\n",
        "order_centroids = original_space_centroids.argsort()[:, ::-1]\n",
        "# Mendapatkan daftar kata kunci\n",
        "terms = vectorizer.get_feature_names_out()\n",
        "\n",
        "# Cetak kata kunci untuk setiap klaster\n",
        "for i in range(true_k):\n",
        "    print(f\"Cluster {i}: \", end=\"\")\n",
        "    for ind in order_centroids[i, :10]:\n",
        "        print(f\"{terms[ind]} \", end=\"\")\n",
        "    print()\n"
      ],
      "metadata": {
        "colab": {
          "base_uri": "https://localhost:8080/"
        },
        "id": "Yz34scojc1VD",
        "outputId": "c04e7ff4-24cc-4f9b-aad8-8eddf61e658d"
      },
      "execution_count": 14,
      "outputs": [
        {
          "output_type": "stream",
          "name": "stdout",
          "text": [
            "Cluster 0: thanks graphics image file files know program looking help edu \n",
            "Cluster 1: god jesus bible believe christian people say faith don christians \n",
            "Cluster 2: space nasa launch shuttle station program like sci just earth \n",
            "Cluster 3: just think don people like know time say ve way \n"
          ]
        }
      ]
    },
    {
      "cell_type": "markdown",
      "source": [
        "**HashingVectorizer**"
      ],
      "metadata": {
        "id": "w-0LDd6bc36m"
      }
    },
    {
      "cell_type": "code",
      "source": [
        "from sklearn.feature_extraction.text import HashingVectorizer, TfidfTransformer\n",
        "\n",
        "# Membuat pipeline untuk hashing vectorizer dan LSA\n",
        "lsa_vectorizer = make_pipeline(\n",
        "    HashingVectorizer(stop_words=\"english\", n_features=50_000),\n",
        "    TfidfTransformer(),\n",
        "    TruncatedSVD(n_components=100, random_state=0),\n",
        "    Normalizer(copy=False),\n",
        ")\n",
        "\n",
        "# Melakukan vektorisasi dan pemrosesan LSA pada dataset\n",
        "t0 = time()\n",
        "X_hashed_lsa = lsa_vectorizer.fit_transform(dataset.data)\n",
        "print(f\"vectorization done in {time() - t0:.3f} s\")\n",
        "\n",
        "# Evaluasi KMeans dengan LSA pada hashed vectors\n",
        "fit_and_evaluate(kmeans, X_hashed_lsa, name=\"KMeans\\nwith LSA on hashed vectors\")\n",
        "\n",
        "# Evaluasi MiniBatchKMeans dengan LSA pada hashed vectors\n",
        "fit_and_evaluate(\n",
        "    minibatch_kmeans,\n",
        "    X_hashed_lsa,\n",
        "    name=\"MiniBatchKMeans\\nwith LSA on hashed vectors\",\n",
        ")\n"
      ],
      "metadata": {
        "colab": {
          "base_uri": "https://localhost:8080/"
        },
        "id": "-Ac8lFrLc4Lc",
        "outputId": "6ccd7afe-6e4c-41f1-bcf8-e4516f925319"
      },
      "execution_count": 15,
      "outputs": [
        {
          "output_type": "stream",
          "name": "stdout",
          "text": [
            "vectorization done in 3.095 s\n",
            "clustering done in 0.13 ± 0.02 s \n",
            "Homogeneity: 0.405 ± 0.003\n",
            "Completeness: 0.456 ± 0.004\n",
            "V-measure: 0.429 ± 0.003\n",
            "Adjusted Rand-Index: 0.330 ± 0.008\n",
            "Silhouette Coefficient: 0.030 ± 0.001\n",
            "clustering done in 0.14 ± 0.02 s \n",
            "Homogeneity: 0.363 ± 0.063\n",
            "Completeness: 0.375 ± 0.063\n",
            "V-measure: 0.369 ± 0.062\n",
            "Adjusted Rand-Index: 0.324 ± 0.067\n",
            "Silhouette Coefficient: 0.025 ± 0.004\n"
          ]
        }
      ]
    },
    {
      "cell_type": "markdown",
      "source": [
        "**Clustering evaluation summary**"
      ],
      "metadata": {
        "id": "blMQ_R_adFll"
      }
    },
    {
      "cell_type": "code",
      "source": [
        "import matplotlib.pyplot as plt\n",
        "import pandas as pd\n",
        "\n",
        "# Membuat subplot dan mengatur ukuran\n",
        "fig, (ax0, ax1) = plt.subplots(ncols=2, figsize=(16, 6), sharey=True)\n",
        "\n",
        "# Membuat dataframe dari hasil evaluasi dan standar deviasi\n",
        "df = pd.DataFrame(evaluations[::-1]).set_index(\"estimator\")\n",
        "df_std = pd.DataFrame(evaluations_std[::-1]).set_index(\"estimator\")\n",
        "\n",
        "# Visualisasi skor evaluasi klaster\n",
        "df.drop(\n",
        "    [\"train_time\"],\n",
        "    axis=\"columns\",\n",
        ").plot.barh(ax=ax0, xerr=df_std)\n",
        "ax0.set_xlabel(\"Clustering scores\")\n",
        "ax0.set_ylabel(\"\")\n",
        "\n",
        "# Visualisasi waktu pelatihan klaster\n",
        "df[\"train_time\"].plot.barh(ax=ax1, xerr=df_std[\"train_time\"])\n",
        "ax1.set_xlabel(\"Clustering time (s)\")\n",
        "\n",
        "# Menyesuaikan tata letak\n",
        "plt.tight_layout()\n"
      ],
      "metadata": {
        "colab": {
          "base_uri": "https://localhost:8080/",
          "height": 607
        },
        "id": "5cbWp4rldFzh",
        "outputId": "2ee26b29-eb30-4d0e-ff2a-3b3786453cf6"
      },
      "execution_count": 16,
      "outputs": [
        {
          "output_type": "display_data",
          "data": {
            "text/plain": [
              "<Figure size 1600x600 with 2 Axes>"
            ],
            "image/png": "[encoded data removed]"
          },
          "metadata": {}
        }
      ]
    }
  ]
}