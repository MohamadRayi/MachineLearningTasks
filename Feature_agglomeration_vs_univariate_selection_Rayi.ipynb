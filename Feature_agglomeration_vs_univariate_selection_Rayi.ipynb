{
  "nbformat": 4,
  "nbformat_minor": 0,
  "metadata": {
    "colab": {
      "provenance": [],
      "authorship_tag": "ABX9TyPvd8TpVoGmAkauUquyjLay",
      "include_colab_link": true
    },
    "kernelspec": {
      "name": "python3",
      "display_name": "Python 3"
    },
    "language_info": {
      "name": "python"
    }
  },
  "cells": [
    {
      "cell_type": "markdown",
      "metadata": {
        "id": "view-in-github",
        "colab_type": "text"
      },
      "source": [
        "<a href=\"https://colab.research.google.com/github/MohamadRayi/MachineLearningTasks/blob/main/Feature_agglomeration_vs_univariate_selection_Rayi.ipynb\" target=\"_parent\"><img src=\"https://colab.research.google.com/assets/colab-badge.svg\" alt=\"Open In Colab\"/></a>"
      ]
    },
    {
      "cell_type": "markdown",
      "source": [
        "Mohamad Rayi Dwi Putra\n",
        "1103213070\n",
        "Task Lecture 6 Clustering\n",
        "\n",
        "**Feature agglomeration vs. univariate selection**"
      ],
      "metadata": {
        "id": "DmkcM5yzyWmb"
      }
    },
    {
      "cell_type": "markdown",
      "source": [],
      "metadata": {
        "id": "BBdOHLlByuik"
      }
    },
    {
      "cell_type": "code",
      "execution_count": 5,
      "metadata": {
        "id": "UQNxkanfyRTP"
      },
      "outputs": [],
      "source": [
        "import shutil\n",
        "import tempfile\n",
        "\n",
        "import matplotlib.pyplot as plt\n",
        "import numpy as np\n",
        "from joblib import Memory\n",
        "from scipy import linalg, ndimage\n",
        "\n",
        "from sklearn import feature_selection\n",
        "from sklearn.cluster import FeatureAgglomeration\n",
        "from sklearn.feature_extraction.image import grid_to_graph\n",
        "from sklearn.linear_model import BayesianRidge\n",
        "from sklearn.model_selection import GridSearchCV, KFold\n",
        "from sklearn.pipeline import Pipeline"
      ]
    },
    {
      "cell_type": "markdown",
      "source": [
        "**Set parameters**"
      ],
      "metadata": {
        "id": "FYRkLRYa2Y_A"
      }
    },
    {
      "cell_type": "code",
      "source": [
        "import numpy as np\n",
        "\n",
        "n_samples = 200\n",
        "size = 40  # image size\n",
        "roi_size = 15\n",
        "snr = 5.0\n",
        "np.random.seed(0)\n",
        "\n",
        "coef = np.zeros((size, size))\n",
        "coef[0:roi_size, 0:roi_size] = -1.0\n",
        "coef[-roi_size:, -roi_size:] = 1.0\n",
        "\n",
        "X = np.random.randn(n_samples, size**2)\n",
        "for x in X:  # smooth data\n",
        "    x[:] = ndimage.gaussian_filter(x.reshape(size, size), sigma=1.0).ravel()\n",
        "X -= X.mean(axis=0)\n",
        "X /= X.std(axis=0)\n",
        "\n",
        "y = np.dot(X, coef.ravel())\n",
        "\n",
        "noise = np.random.randn(y.shape[0])\n",
        "noise_coef = (linalg.norm(y, 2) / np.exp(snr / 20.0)) / linalg.norm(noise, 2)\n",
        "y += noise_coef * noise\n"
      ],
      "metadata": {
        "id": "cxc8r1Kv2knY"
      },
      "execution_count": 6,
      "outputs": []
    },
    {
      "cell_type": "markdown",
      "source": [
        "**Generate data**"
      ],
      "metadata": {
        "id": "GG9yOv1D2oul"
      }
    },
    {
      "cell_type": "code",
      "source": [
        "import numpy as np\n",
        "from scipy import ndimage\n",
        "\n",
        "# Membuat koefisien untuk regresi linier\n",
        "coef = np.zeros((size, size))\n",
        "coef[0:roi_size, 0:roi_size] = -1.0\n",
        "coef[-roi_size:, -roi_size:] = 1.0\n",
        "\n",
        "# Membuat data X dengan noise Gaussian\n",
        "X = np.random.randn(n_samples, size ** 2)\n",
        "\n",
        "# Menghaluskan data X\n",
        "for x in X:\n",
        "    x[:] = ndimage.gaussian_filter(x.reshape(size, size), sigma=1.0).ravel()\n",
        "\n",
        "# Standarisasi data X\n",
        "X -= X.mean(axis=0)\n",
        "X /= X.std(axis=0)\n",
        "\n",
        "# Membuat data target y\n",
        "y = np.dot(X, coef.ravel())\n",
        "\n",
        "# Memeriksa bentuk data yang dihasilkan\n",
        "print(\"Shape of X:\", X.shape)\n",
        "print(\"Shape of y:\", y.shape)\n"
      ],
      "metadata": {
        "colab": {
          "base_uri": "https://localhost:8080/"
        },
        "id": "4ogzAYJ32o-F",
        "outputId": "8f44cd7c-3161-4852-83ad-f2e988d8e57e"
      },
      "execution_count": 7,
      "outputs": [
        {
          "output_type": "stream",
          "name": "stdout",
          "text": [
            "Shape of X: (200, 1600)\n",
            "Shape of y: (200,)\n"
          ]
        }
      ]
    },
    {
      "cell_type": "markdown",
      "source": [
        "**add noise**"
      ],
      "metadata": {
        "id": "nma-xLsD21bZ"
      }
    },
    {
      "cell_type": "code",
      "source": [
        "import numpy as np\n",
        "from scipy import linalg\n",
        "\n",
        "# Membuat noise\n",
        "noise = np.random.randn(y.shape[0])\n",
        "\n",
        "# Menghitung koefisien untuk menormalkan noise\n",
        "noise_coef = (linalg.norm(y, 2) / np.exp(snr / 20.0)) / linalg.norm(noise, 2)\n",
        "\n",
        "# Menambahkan noise ke data target y\n",
        "y += noise_coef * noise\n",
        "\n",
        "# Memeriksa bentuk data yang dihasilkan\n",
        "print(\"Shape of y after adding noise:\", y.shape)\n"
      ],
      "metadata": {
        "colab": {
          "base_uri": "https://localhost:8080/"
        },
        "id": "CuFKoY1-23C5",
        "outputId": "46e38d4f-637c-4317-bec0-da751bd12691"
      },
      "execution_count": 8,
      "outputs": [
        {
          "output_type": "stream",
          "name": "stdout",
          "text": [
            "Shape of y after adding noise: (200,)\n"
          ]
        }
      ]
    },
    {
      "cell_type": "markdown",
      "source": [
        "**Compute the coefs of a Bayesian Ridge with GridSearch**"
      ],
      "metadata": {
        "id": "ugoTMQt0OGsJ"
      }
    },
    {
      "cell_type": "code",
      "source": [
        "from sklearn.model_selection import KFold\n",
        "from sklearn.linear_model import BayesianRidge\n",
        "import tempfile\n",
        "from joblib import Memory\n",
        "\n",
        "cv = KFold(2)  # cross-validation generator for model selection\n",
        "ridge = BayesianRidge()\n",
        "cachedir = tempfile.mkdtemp()\n",
        "mem = Memory(location=cachedir, verbose=1)\n"
      ],
      "metadata": {
        "id": "70qLAjR6OHVX"
      },
      "execution_count": 9,
      "outputs": []
    },
    {
      "cell_type": "markdown",
      "source": [
        "**Ward agglomeration followed by BayesianRidge**"
      ],
      "metadata": {
        "id": "DeppE-krOJ_t"
      }
    },
    {
      "cell_type": "code",
      "source": [
        "from sklearn.cluster import FeatureAgglomeration\n",
        "from sklearn.pipeline import Pipeline\n",
        "from sklearn.model_selection import GridSearchCV\n",
        "from sklearn.feature_extraction.image import grid_to_graph\n",
        "\n",
        "connectivity = grid_to_graph(n_x=size, n_y=size)\n",
        "ward = FeatureAgglomeration(n_clusters=10, connectivity=connectivity, memory=mem)\n",
        "clf = Pipeline([(\"ward\", ward), (\"ridge\", ridge)])\n",
        "# Select the optimal number of parcels with grid search\n",
        "clf = GridSearchCV(clf, {\"ward__n_clusters\": [10, 20, 30]}, n_jobs=1, cv=cv)\n",
        "clf.fit(X, y)  # set the best parameters\n",
        "coef_ = clf.best_estimator_.steps[-1][1].coef_\n",
        "coef_ = clf.best_estimator_.steps[0][1].inverse_transform(coef_)\n",
        "coef_agglomeration_ = coef_.reshape(size, size)\n"
      ],
      "metadata": {
        "colab": {
          "base_uri": "https://localhost:8080/"
        },
        "id": "SgGVDR2mOKP0",
        "outputId": "933098c8-beb8-4362-9c09-d13228d7c467"
      },
      "execution_count": 10,
      "outputs": [
        {
          "output_type": "stream",
          "name": "stdout",
          "text": [
            "________________________________________________________________________________\n",
            "[Memory] Calling sklearn.cluster._agglomerative.ward_tree...\n",
            "ward_tree(array([[-0.433491, ..., -0.518734],\n",
            "       ...,\n",
            "       [ 0.801232, ..., -2.210749]]), connectivity=<1600x1600 sparse matrix of type '<class 'numpy.int64'>'\n",
            "\twith 7840 stored elements in COOrdinate format>, n_clusters=None, return_distance=False)\n",
            "________________________________________________________ward_tree - 0.2s, 0.0min\n",
            "________________________________________________________________________________\n",
            "[Memory] Calling sklearn.cluster._agglomerative.ward_tree...\n",
            "ward_tree(array([[0.935706, ..., 1.277465],\n",
            "       ...,\n",
            "       [0.317433, ..., 1.021728]]), connectivity=<1600x1600 sparse matrix of type '<class 'numpy.int64'>'\n",
            "\twith 7840 stored elements in COOrdinate format>, n_clusters=None, return_distance=False)\n",
            "________________________________________________________ward_tree - 0.2s, 0.0min\n",
            "________________________________________________________________________________\n",
            "[Memory] Calling sklearn.cluster._agglomerative.ward_tree...\n",
            "ward_tree(array([[ 0.935706, ..., -0.518734],\n",
            "       ...,\n",
            "       [ 0.317433, ..., -2.210749]]), connectivity=<1600x1600 sparse matrix of type '<class 'numpy.int64'>'\n",
            "\twith 7840 stored elements in COOrdinate format>, n_clusters=None, return_distance=False)\n",
            "________________________________________________________ward_tree - 0.2s, 0.0min\n"
          ]
        }
      ]
    },
    {
      "cell_type": "markdown",
      "source": [
        "**Anova univariate feature selection followed by BayesianRidge**"
      ],
      "metadata": {
        "id": "3Ld_jO7HOT_4"
      }
    },
    {
      "cell_type": "code",
      "source": [
        "f_regression = mem.cache(feature_selection.f_regression)  # caching function\n",
        "anova = feature_selection.SelectPercentile(f_regression)\n",
        "clf = Pipeline([(\"anova\", anova), (\"ridge\", ridge)])\n",
        "# Select the optimal percentage of features with grid search\n",
        "clf = GridSearchCV(clf, {\"anova__percentile\": [5, 10, 20]}, cv=cv)\n",
        "clf.fit(X, y)  # set the best parameters\n",
        "coef_ = clf.best_estimator_.steps[-1][1].coef_\n",
        "coef_ = clf.best_estimator_.steps[0][1].inverse_transform(coef_.reshape(1, -1))\n",
        "coef_selection_ = coef_.reshape(size, size)\n"
      ],
      "metadata": {
        "colab": {
          "base_uri": "https://localhost:8080/"
        },
        "id": "HVasUcr7OUk1",
        "outputId": "a5cd1e93-369b-485d-bba3-a73f9d4d9f3c"
      },
      "execution_count": 11,
      "outputs": [
        {
          "output_type": "stream",
          "name": "stdout",
          "text": [
            "________________________________________________________________________________\n",
            "[Memory] Calling sklearn.feature_selection._univariate_selection.f_regression...\n",
            "f_regression(array([[-0.433491, ...,  0.801232],\n",
            "       ...,\n",
            "       [-0.518734, ..., -2.210749]]), \n",
            "array([-77.324109, ..., -38.072886]))\n",
            "_____________________________________________________f_regression - 0.0s, 0.0min\n",
            "________________________________________________________________________________\n",
            "[Memory] Calling sklearn.feature_selection._univariate_selection.f_regression...\n",
            "f_regression(array([[0.935706, ..., 0.317433],\n",
            "       ...,\n",
            "       [1.277465, ..., 1.021728]]), array([  37.778886, ..., -104.407567]))\n",
            "_____________________________________________________f_regression - 0.0s, 0.0min\n",
            "________________________________________________________________________________\n",
            "[Memory] Calling sklearn.feature_selection._univariate_selection.f_regression...\n",
            "f_regression(array([[ 0.935706, ...,  0.317433],\n",
            "       ...,\n",
            "       [-0.518734, ..., -2.210749]]), \n",
            "array([ 37.778886, ..., -38.072886]))\n",
            "_____________________________________________________f_regression - 0.0s, 0.0min\n"
          ]
        }
      ]
    },
    {
      "cell_type": "markdown",
      "source": [
        "**Inverse the transformation to plot the results on an image**"
      ],
      "metadata": {
        "id": "6HSwjjl7OY-S"
      }
    },
    {
      "cell_type": "code",
      "source": [
        "plt.close(\"all\")\n",
        "plt.figure(figsize=(7.3, 2.7))\n",
        "plt.subplot(1, 3, 1)\n",
        "plt.imshow(coef, interpolation=\"nearest\", cmap=plt.cm.RdBu_r)\n",
        "plt.title(\"True weights\")\n",
        "plt.subplot(1, 3, 2)\n",
        "plt.imshow(coef_selection_, interpolation=\"nearest\", cmap=plt.cm.RdBu_r)\n",
        "plt.title(\"Feature Selection\")\n",
        "plt.subplot(1, 3, 3)\n",
        "plt.imshow(coef_agglomeration_, interpolation=\"nearest\", cmap=plt.cm.RdBu_r)\n",
        "plt.title(\"Feature Agglomeration\")\n",
        "plt.subplots_adjust(0.04, 0.0, 0.98, 0.94, 0.16, 0.26)\n",
        "plt.show()\n"
      ],
      "metadata": {
        "colab": {
          "base_uri": "https://localhost:8080/",
          "height": 289
        },
        "id": "eafRNqoIOZly",
        "outputId": "3e6088d4-5cd5-414e-c42a-fd928b6ca977"
      },
      "execution_count": 12,
      "outputs": [
        {
          "output_type": "display_data",
          "data": {
            "text/plain": [
              "<Figure size 730x270 with 3 Axes>"
            ],
            "image/png": "[encoded data removed]"
          },
          "metadata": {}
        }
      ]
    }
  ]
}