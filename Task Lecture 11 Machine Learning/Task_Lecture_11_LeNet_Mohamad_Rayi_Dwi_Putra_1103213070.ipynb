{
  "nbformat": 4,
  "nbformat_minor": 0,
  "metadata": {
    "colab": {
      "provenance": [],
      "authorship_tag": "ABX9TyPm+nUF+JwtujVmMaB6/QzW",
      "include_colab_link": true
    },
    "kernelspec": {
      "name": "python3",
      "display_name": "Python 3"
    },
    "language_info": {
      "name": "python"
    }
  },
  "cells": [
    {
      "cell_type": "markdown",
      "metadata": {
        "id": "view-in-github",
        "colab_type": "text"
      },
      "source": [
        "<a href=\"https://colab.research.google.com/github/MohamadRayi/MachineLearningTasks/blob/main/Task_Lecture_11_LeNet_Mohamad_Rayi_Dwi_Putra_1103213070.ipynb\" target=\"_parent\"><img src=\"https://colab.research.google.com/assets/colab-badge.svg\" alt=\"Open In Colab\"/></a>"
      ]
    },
    {
      "cell_type": "markdown",
      "source": [
        "Mohamad Rayi Dwi Putra\n",
        "\n",
        "1103213070\n",
        "\n",
        "Task Lecture 11 LeNet\n",
        "\n",
        "Dataset MNIST\n",
        "\n",
        "Dokumentasi Prompt Chatgpt:\n",
        "\n",
        "https://chatgpt.com/share/98bfc4c0-1bc2-42a8-b698-54eef1e396d3"
      ],
      "metadata": {
        "id": "YKO3EjqO3q4D"
      }
    },
    {
      "cell_type": "markdown",
      "source": [
        "LeNet adalah salah satu arsitektur jaringan saraf konvolusional (CNN) yang pertama kali diperkenalkan oleh Yann LeCun dan timnya pada akhir 1980-an dan awal 1990-an. LeNet terutama digunakan untuk pengenalan tulisan tangan pada data MNIST. Model ini terdiri dari beberapa lapisan konvolusi dan lapisan pooling yang diikuti oleh lapisan fully connected.\n",
        "\n",
        "Berikut adalah langkah-langkah untuk membangun dan melatih model LeNet menggunakan Google Colab:"
      ],
      "metadata": {
        "id": "mkzklzWB3yvl"
      }
    },
    {
      "cell_type": "markdown",
      "source": [
        "**Mengimpor Library yang Dibutuhkan**"
      ],
      "metadata": {
        "id": "9V4s6fT631ax"
      }
    },
    {
      "cell_type": "code",
      "execution_count": null,
      "metadata": {
        "id": "0DRwks633qdn"
      },
      "outputs": [],
      "source": [
        "import tensorflow as tf\n",
        "from tensorflow.keras import datasets, layers, models\n",
        "import matplotlib.pyplot as plt\n"
      ]
    },
    {
      "cell_type": "markdown",
      "source": [
        "**Memuat dan Mempersiapkan Data MNIST**"
      ],
      "metadata": {
        "id": "D1iqROT235OC"
      }
    },
    {
      "cell_type": "code",
      "source": [
        "# Memuat dataset MNIST\n",
        "(train_images, train_labels), (test_images, test_labels) = datasets.mnist.load_data()\n",
        "\n",
        "# Normalisasi gambar ke nilai [0, 1]\n",
        "train_images = train_images.reshape((60000, 28, 28, 1)).astype('float32') / 255\n",
        "test_images = test_images.reshape((10000, 28, 28, 1)).astype('float32') / 255\n"
      ],
      "metadata": {
        "colab": {
          "base_uri": "https://localhost:8080/"
        },
        "id": "KAHHKE1a35cN",
        "outputId": "8f7556e3-8098-457f-cfee-c44bc48aec97"
      },
      "execution_count": null,
      "outputs": [
        {
          "output_type": "stream",
          "name": "stdout",
          "text": [
            "Downloading data from https://storage.googleapis.com/tensorflow/tf-keras-datasets/mnist.npz\n",
            "11490434/11490434 [==============================] - 0s 0us/step\n"
          ]
        }
      ]
    },
    {
      "cell_type": "markdown",
      "source": [
        "**Membangun Model LeNet**"
      ],
      "metadata": {
        "id": "oCN2btWS3722"
      }
    },
    {
      "cell_type": "code",
      "source": [
        "model = models.Sequential()\n",
        "model.add(layers.Conv2D(6, (5, 5), activation='relu', input_shape=(28, 28, 1)))\n",
        "model.add(layers.AveragePooling2D())\n",
        "model.add(layers.Conv2D(16, (5, 5), activation='relu'))\n",
        "model.add(layers.AveragePooling2D())\n",
        "model.add(layers.Flatten())\n",
        "model.add(layers.Dense(120, activation='relu'))\n",
        "model.add(layers.Dense(84, activation='relu'))\n",
        "model.add(layers.Dense(10, activation='softmax'))\n",
        "\n",
        "model.summary()\n"
      ],
      "metadata": {
        "colab": {
          "base_uri": "https://localhost:8080/"
        },
        "id": "34FnauDx3-PE",
        "outputId": "b4bf3464-bbda-4354-eafb-f2073a0a0427"
      },
      "execution_count": null,
      "outputs": [
        {
          "output_type": "stream",
          "name": "stdout",
          "text": [
            "Model: \"sequential\"\n",
            "_________________________________________________________________\n",
            " Layer (type)                Output Shape              Param #   \n",
            "=================================================================\n",
            " conv2d (Conv2D)             (None, 24, 24, 6)         156       \n",
            "                                                                 \n",
            " average_pooling2d (Average  (None, 12, 12, 6)         0         \n",
            " Pooling2D)                                                      \n",
            "                                                                 \n",
            " conv2d_1 (Conv2D)           (None, 8, 8, 16)          2416      \n",
            "                                                                 \n",
            " average_pooling2d_1 (Avera  (None, 4, 4, 16)          0         \n",
            " gePooling2D)                                                    \n",
            "                                                                 \n",
            " flatten (Flatten)           (None, 256)               0         \n",
            "                                                                 \n",
            " dense (Dense)               (None, 120)               30840     \n",
            "                                                                 \n",
            " dense_1 (Dense)             (None, 84)                10164     \n",
            "                                                                 \n",
            " dense_2 (Dense)             (None, 10)                850       \n",
            "                                                                 \n",
            "=================================================================\n",
            "Total params: 44426 (173.54 KB)\n",
            "Trainable params: 44426 (173.54 KB)\n",
            "Non-trainable params: 0 (0.00 Byte)\n",
            "_________________________________________________________________\n"
          ]
        }
      ]
    },
    {
      "cell_type": "markdown",
      "source": [
        "**Kompilasi dan Latih Model**"
      ],
      "metadata": {
        "id": "scmSZ4so4ARk"
      }
    },
    {
      "cell_type": "code",
      "source": [
        "model.compile(optimizer='adam',\n",
        "              loss='sparse_categorical_crossentropy',\n",
        "              metrics=['accuracy'])\n",
        "\n",
        "history = model.fit(train_images, train_labels, epochs=10,\n",
        "                    validation_data=(test_images, test_labels))\n"
      ],
      "metadata": {
        "colab": {
          "base_uri": "https://localhost:8080/"
        },
        "id": "cwAtRxc_3_9Y",
        "outputId": "228cf505-5f33-4657-bdf0-ddd12d231712"
      },
      "execution_count": null,
      "outputs": [
        {
          "output_type": "stream",
          "name": "stdout",
          "text": [
            "Epoch 1/10\n",
            "1875/1875 [==============================] - 39s 19ms/step - loss: 0.2472 - accuracy: 0.9235 - val_loss: 0.0843 - val_accuracy: 0.9729\n",
            "Epoch 2/10\n",
            "1875/1875 [==============================] - 28s 15ms/step - loss: 0.0775 - accuracy: 0.9764 - val_loss: 0.0615 - val_accuracy: 0.9807\n",
            "Epoch 3/10\n",
            "1875/1875 [==============================] - 28s 15ms/step - loss: 0.0551 - accuracy: 0.9826 - val_loss: 0.0463 - val_accuracy: 0.9860\n",
            "Epoch 4/10\n",
            "1875/1875 [==============================] - 28s 15ms/step - loss: 0.0431 - accuracy: 0.9867 - val_loss: 0.0366 - val_accuracy: 0.9888\n",
            "Epoch 5/10\n",
            "1875/1875 [==============================] - 25s 14ms/step - loss: 0.0363 - accuracy: 0.9886 - val_loss: 0.0358 - val_accuracy: 0.9890\n",
            "Epoch 6/10\n",
            "1875/1875 [==============================] - 26s 14ms/step - loss: 0.0301 - accuracy: 0.9904 - val_loss: 0.0368 - val_accuracy: 0.9881\n",
            "Epoch 7/10\n",
            "1875/1875 [==============================] - 27s 14ms/step - loss: 0.0256 - accuracy: 0.9915 - val_loss: 0.0401 - val_accuracy: 0.9874\n",
            "Epoch 8/10\n",
            "1875/1875 [==============================] - 27s 14ms/step - loss: 0.0215 - accuracy: 0.9934 - val_loss: 0.0333 - val_accuracy: 0.9895\n",
            "Epoch 9/10\n",
            "1875/1875 [==============================] - 26s 14ms/step - loss: 0.0201 - accuracy: 0.9933 - val_loss: 0.0422 - val_accuracy: 0.9867\n",
            "Epoch 10/10\n",
            "1875/1875 [==============================] - 27s 14ms/step - loss: 0.0168 - accuracy: 0.9945 - val_loss: 0.0397 - val_accuracy: 0.9893\n"
          ]
        }
      ]
    },
    {
      "cell_type": "markdown",
      "source": [
        "**Evaluasi Model**"
      ],
      "metadata": {
        "id": "TPT6Q3sM4CmT"
      }
    },
    {
      "cell_type": "code",
      "source": [
        "test_loss, test_acc = model.evaluate(test_images, test_labels, verbose=2)\n",
        "print(f'\\nTest accuracy: {test_acc}')\n"
      ],
      "metadata": {
        "colab": {
          "base_uri": "https://localhost:8080/"
        },
        "id": "XUoHFIDP4EIA",
        "outputId": "eb9e12e9-ad3f-40f8-8d5d-2aba082e2c23"
      },
      "execution_count": null,
      "outputs": [
        {
          "output_type": "stream",
          "name": "stdout",
          "text": [
            "313/313 - 2s - loss: 0.0397 - accuracy: 0.9893 - 2s/epoch - 6ms/step\n",
            "\n",
            "Test accuracy: 0.989300012588501\n"
          ]
        }
      ]
    },
    {
      "cell_type": "markdown",
      "source": [
        "Visualisasi Hasil Latihan"
      ],
      "metadata": {
        "id": "RYOpvWCd4FUj"
      }
    },
    {
      "cell_type": "code",
      "source": [
        "plt.plot(history.history['accuracy'], label='accuracy')\n",
        "plt.plot(history.history['val_accuracy'], label = 'val_accuracy')\n",
        "plt.xlabel('Epoch')\n",
        "plt.ylabel('Accuracy')\n",
        "plt.ylim([0.5, 1])\n",
        "plt.legend(loc='lower right')\n",
        "\n",
        "plt.plot(history.history['loss'], label='loss')\n",
        "plt.plot(history.history['val_loss'], label = 'val_loss')\n",
        "plt.xlabel('Epoch')\n",
        "plt.ylabel('Loss')\n",
        "plt.ylim([0, 1.5])\n",
        "plt.legend(loc='upper right')\n",
        "plt.show()\n"
      ],
      "metadata": {
        "colab": {
          "base_uri": "https://localhost:8080/",
          "height": 449
        },
        "id": "2gT59wP44Foo",
        "outputId": "ce05d5f1-d69f-4b84-d235-77f1e40375cc"
      },
      "execution_count": null,
      "outputs": [
        {
          "output_type": "display_data",
          "data": {
            "text/plain": [
              "<Figure size 640x480 with 1 Axes>"
            ],
            "image/png": "[encoded data removed]"
          },
          "metadata": {}
        }
      ]
    }
  ]
}
