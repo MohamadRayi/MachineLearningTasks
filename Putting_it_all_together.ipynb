{
  "nbformat": 4,
  "nbformat_minor": 0,
  "metadata": {
    "colab": {
      "provenance": [],
      "authorship_tag": "ABX9TyM6jzcK9yaiDfGLzzQ48ChJ",
      "include_colab_link": true
    },
    "kernelspec": {
      "name": "python3",
      "display_name": "Python 3"
    },
    "language_info": {
      "name": "python"
    }
  },
  "cells": [
    {
      "cell_type": "markdown",
      "metadata": {
        "id": "view-in-github",
        "colab_type": "text"
      },
      "source": [
        "<a href=\"https://colab.research.google.com/github/MohamadRayi/MachineLearningTasks/blob/main/Putting_it_all_together.ipynb\" target=\"_parent\"><img src=\"https://colab.research.google.com/assets/colab-badge.svg\" alt=\"Open In Colab\"/></a>"
      ]
    },
    {
      "cell_type": "markdown",
      "source": [
        "Mohamad Rayi Dwi Putra\n",
        "\n",
        "1103213070\n",
        "\n",
        "Task Lecture 13\n",
        "\n",
        "Putting_it_all_together"
      ],
      "metadata": {
        "id": "D1F7ZBFhgY7K"
      }
    },
    {
      "cell_type": "code",
      "execution_count": 11,
      "metadata": {
        "colab": {
          "base_uri": "https://localhost:8080/"
        },
        "id": "Ts1x4oyPew4q",
        "outputId": "97a2d3d6-a463-492c-9433-d774db31380f"
      },
      "outputs": [
        {
          "output_type": "stream",
          "name": "stdout",
          "text": [
            "Requirement already satisfied: datasets in /usr/local/lib/python3.10/dist-packages (2.19.2)\n",
            "Requirement already satisfied: evaluate in /usr/local/lib/python3.10/dist-packages (0.4.2)\n",
            "Requirement already satisfied: transformers[sentencepiece] in /usr/local/lib/python3.10/dist-packages (4.41.2)\n",
            "Requirement already satisfied: filelock in /usr/local/lib/python3.10/dist-packages (from datasets) (3.14.0)\n",
            "Requirement already satisfied: numpy>=1.17 in /usr/local/lib/python3.10/dist-packages (from datasets) (1.25.2)\n",
            "Requirement already satisfied: pyarrow>=12.0.0 in /usr/local/lib/python3.10/dist-packages (from datasets) (14.0.2)\n",
            "Requirement already satisfied: pyarrow-hotfix in /usr/local/lib/python3.10/dist-packages (from datasets) (0.6)\n",
            "Requirement already satisfied: dill<0.3.9,>=0.3.0 in /usr/local/lib/python3.10/dist-packages (from datasets) (0.3.8)\n",
            "Requirement already satisfied: pandas in /usr/local/lib/python3.10/dist-packages (from datasets) (2.0.3)\n",
            "Requirement already satisfied: requests>=2.32.1 in /usr/local/lib/python3.10/dist-packages (from datasets) (2.32.3)\n",
            "Requirement already satisfied: tqdm>=4.62.1 in /usr/local/lib/python3.10/dist-packages (from datasets) (4.66.4)\n",
            "Requirement already satisfied: xxhash in /usr/local/lib/python3.10/dist-packages (from datasets) (3.4.1)\n",
            "Requirement already satisfied: multiprocess in /usr/local/lib/python3.10/dist-packages (from datasets) (0.70.16)\n",
            "Requirement already satisfied: fsspec[http]<=2024.3.1,>=2023.1.0 in /usr/local/lib/python3.10/dist-packages (from datasets) (2023.6.0)\n",
            "Requirement already satisfied: aiohttp in /usr/local/lib/python3.10/dist-packages (from datasets) (3.9.5)\n",
            "Requirement already satisfied: huggingface-hub>=0.21.2 in /usr/local/lib/python3.10/dist-packages (from datasets) (0.23.2)\n",
            "Requirement already satisfied: packaging in /usr/local/lib/python3.10/dist-packages (from datasets) (24.0)\n",
            "Requirement already satisfied: pyyaml>=5.1 in /usr/local/lib/python3.10/dist-packages (from datasets) (6.0.1)\n",
            "Requirement already satisfied: regex!=2019.12.17 in /usr/local/lib/python3.10/dist-packages (from transformers[sentencepiece]) (2024.5.15)\n",
            "Requirement already satisfied: tokenizers<0.20,>=0.19 in /usr/local/lib/python3.10/dist-packages (from transformers[sentencepiece]) (0.19.1)\n",
            "Requirement already satisfied: safetensors>=0.4.1 in /usr/local/lib/python3.10/dist-packages (from transformers[sentencepiece]) (0.4.3)\n",
            "Requirement already satisfied: sentencepiece!=0.1.92,>=0.1.91 in /usr/local/lib/python3.10/dist-packages (from transformers[sentencepiece]) (0.1.99)\n",
            "Requirement already satisfied: protobuf in /usr/local/lib/python3.10/dist-packages (from transformers[sentencepiece]) (3.20.3)\n",
            "Requirement already satisfied: aiosignal>=1.1.2 in /usr/local/lib/python3.10/dist-packages (from aiohttp->datasets) (1.3.1)\n",
            "Requirement already satisfied: attrs>=17.3.0 in /usr/local/lib/python3.10/dist-packages (from aiohttp->datasets) (23.2.0)\n",
            "Requirement already satisfied: frozenlist>=1.1.1 in /usr/local/lib/python3.10/dist-packages (from aiohttp->datasets) (1.4.1)\n",
            "Requirement already satisfied: multidict<7.0,>=4.5 in /usr/local/lib/python3.10/dist-packages (from aiohttp->datasets) (6.0.5)\n",
            "Requirement already satisfied: yarl<2.0,>=1.0 in /usr/local/lib/python3.10/dist-packages (from aiohttp->datasets) (1.9.4)\n",
            "Requirement already satisfied: async-timeout<5.0,>=4.0 in /usr/local/lib/python3.10/dist-packages (from aiohttp->datasets) (4.0.3)\n",
            "Requirement already satisfied: typing-extensions>=3.7.4.3 in /usr/local/lib/python3.10/dist-packages (from huggingface-hub>=0.21.2->datasets) (4.12.1)\n",
            "Requirement already satisfied: charset-normalizer<4,>=2 in /usr/local/lib/python3.10/dist-packages (from requests>=2.32.1->datasets) (3.3.2)\n",
            "Requirement already satisfied: idna<4,>=2.5 in /usr/local/lib/python3.10/dist-packages (from requests>=2.32.1->datasets) (3.7)\n",
            "Requirement already satisfied: urllib3<3,>=1.21.1 in /usr/local/lib/python3.10/dist-packages (from requests>=2.32.1->datasets) (2.0.7)\n",
            "Requirement already satisfied: certifi>=2017.4.17 in /usr/local/lib/python3.10/dist-packages (from requests>=2.32.1->datasets) (2024.6.2)\n",
            "Requirement already satisfied: python-dateutil>=2.8.2 in /usr/local/lib/python3.10/dist-packages (from pandas->datasets) (2.8.2)\n",
            "Requirement already satisfied: pytz>=2020.1 in /usr/local/lib/python3.10/dist-packages (from pandas->datasets) (2023.4)\n",
            "Requirement already satisfied: tzdata>=2022.1 in /usr/local/lib/python3.10/dist-packages (from pandas->datasets) (2024.1)\n",
            "Requirement already satisfied: six>=1.5 in /usr/local/lib/python3.10/dist-packages (from python-dateutil>=2.8.2->pandas->datasets) (1.16.0)\n"
          ]
        }
      ],
      "source": [
        "!pip install datasets evaluate transformers[sentencepiece]"
      ]
    },
    {
      "cell_type": "code",
      "source": [
        "# Mengimpor kelas yang diperlukan dari pustaka Transformers\n",
        "from transformers import AutoTokenizer\n",
        "\n",
        "# Memilih checkpoint yang akan digunakan untuk tokenisasi\n",
        "# Checkpoint mengacu pada versi spesifik dari model pra-terlatih, dalam hal ini adalah 'distilbert-base-uncased-finetuned-sst-2-english'\n",
        "checkpoint = \"distilbert-base-uncased-finetuned-sst-2-english\"\n",
        "\n",
        "# Membuat tokenizer berdasarkan checkpoint yang telah dipilih\n",
        "# AutoTokenizer secara otomatis memilih tokenizer yang sesuai dengan model pra-terlatih yang digunakan\n",
        "tokenizer = AutoTokenizer.from_pretrained(checkpoint)\n",
        "\n",
        "# Menyiapkan teks yang akan diubah menjadi input untuk model\n",
        "sequence = \"I've been waiting for a HuggingFace course my whole life.\"\n",
        "\n",
        "# Menggunakan tokenizer untuk mengubah teks menjadi input yang dapat diterima oleh model\n",
        "# Tokenizer mengubah teks menjadi token ID yang dapat diproses oleh model BERT\n",
        "model_inputs = tokenizer(sequence)\n"
      ],
      "metadata": {
        "id": "w5Q2PyAhfcGw"
      },
      "execution_count": 12,
      "outputs": []
    },
    {
      "cell_type": "code",
      "source": [
        "# Kalimat yang akan di-tokenisasi\n",
        "sequence = \"I've been waiting for a HuggingFace course my whole life.\"\n",
        "\n",
        "# Menerapkan tokenisasi pada kalimat menggunakan objek tokenizer\n",
        "model_inputs = tokenizer(sequence)"
      ],
      "metadata": {
        "id": "cHcz6qJnfg-U"
      },
      "execution_count": 13,
      "outputs": []
    },
    {
      "cell_type": "code",
      "source": [
        "# Menginisialisasi list sequences yang berisi dua kalimat\n",
        "sequences = [\"I've been waiting for a HuggingFace course my whole life.\", \"So have I!\"]\n",
        "\n",
        "# Membuat input model dengan menggunakan tokenizer pada list sequences\n",
        "model_inputs = tokenizer(sequences)"
      ],
      "metadata": {
        "id": "UFfpcqDjfkGv"
      },
      "execution_count": 14,
      "outputs": []
    },
    {
      "cell_type": "code",
      "source": [
        "# Menghasilkan input untuk model dengan padding pada urutan teks menggunakan panjang urutan terpanjang dalam batch\n",
        "# Padding di sini menambahkan token [PAD] di akhir urutan sehingga semua urutan memiliki panjang yang sama dengan urutan terpanjang dalam batch\n",
        "model_inputs = tokenizer(sequences, padding=\"longest\")\n",
        "\n",
        "# Menghasilkan input untuk model dengan padding pada urutan teks menggunakan panjang maksimum yang ditentukan oleh pengguna\n",
        "# Padding di sini menambahkan token [PAD] di akhir urutan sehingga semua urutan memiliki panjang yang sama dengan panjang maksimum yang ditentukan\n",
        "model_inputs = tokenizer(sequences, padding=\"max_length\")\n",
        "\n",
        "# Menghasilkan input untuk model dengan padding pada urutan teks menggunakan panjang maksimum yang ditentukan (8), mengabaikan panjang sebenarnya dari urutan\n",
        "# Padding di sini menambahkan token [PAD] di akhir urutan sehingga semua urutan memiliki panjang 8, terlepas dari panjang sebenarnya dari urutan\n",
        "model_inputs = tokenizer(sequences, padding=\"max_length\", max_length=8)\n"
      ],
      "metadata": {
        "id": "1LEMAVPTfnYR"
      },
      "execution_count": 15,
      "outputs": []
    },
    {
      "cell_type": "code",
      "source": [
        "# Sequences yang akan diolah oleh model\n",
        "sequences = [\"I've been waiting for a HuggingFace course my whole life.\", \"So have I!\"]\n",
        "\n",
        "# Membuat input model dengan memanfaatkan tokenizer\n",
        "# Akan memotong sequences yang lebih panjang dari panjang maksimum model\n",
        "model_inputs = tokenizer(sequences, truncation=True)\n",
        "\n",
        "# Membuat input model dengan memanfaatkan tokenizer\n",
        "# Akan memotong sequences yang lebih panjang dari panjang maksimum yang telah ditentukan\n",
        "model_inputs = tokenizer(sequences, max_length=8, truncation=True)"
      ],
      "metadata": {
        "id": "mYoCf4U6fnoH"
      },
      "execution_count": 16,
      "outputs": []
    },
    {
      "cell_type": "code",
      "source": [
        "# Mendefinisikan sekumpulan teks atau kalimat yang akan diproses\n",
        "sequences = [\"I've been waiting for a HuggingFace course my whole life.\", \"So have I!\"]\n",
        "\n",
        "# Memproses teks menggunakan tokenizer untuk menghasilkan input yang siap digunakan oleh model PyTorch\n",
        "# Padding di sini menambahkan token [PAD] di akhir urutan sehingga semua urutan memiliki panjang yang sama\n",
        "# return_tensors=\"pt\" mengubah output menjadi format tensor PyTorch\n",
        "model_inputs_pt = tokenizer(sequences, padding=True, return_tensors=\"pt\")\n",
        "\n",
        "# Memproses teks menggunakan tokenizer untuk menghasilkan input yang siap digunakan oleh model TensorFlow\n",
        "# Padding di sini menambahkan token [PAD] di akhir urutan sehingga semua urutan memiliki panjang yang sama\n",
        "# return_tensors=\"tf\" mengubah output menjadi format tensor TensorFlow\n",
        "model_inputs_tf = tokenizer(sequences, padding=True, return_tensors=\"tf\")\n",
        "\n",
        "# Memproses teks menggunakan tokenizer untuk menghasilkan input yang siap digunakan oleh model NumPy\n",
        "# Padding di sini menambahkan token [PAD] di akhir urutan sehingga semua urutan memiliki panjang yang sama\n",
        "# return_tensors=\"np\" mengubah output menjadi format array NumPy\n",
        "model_inputs_np = tokenizer(sequences, padding=True, return_tensors=\"np\")\n"
      ],
      "metadata": {
        "id": "aPoGAjSyfrLE"
      },
      "execution_count": 17,
      "outputs": []
    },
    {
      "cell_type": "code",
      "source": [
        "# Menggunakan teks input\n",
        "sequence = \"I've been waiting for a HuggingFace course my whole life.\"\n",
        "\n",
        "# Memproses teks input menggunakan tokenizer untuk menghasilkan representasi model\n",
        "model_inputs = tokenizer(sequence)\n",
        "\n",
        "# Mencetak token-token input yang dihasilkan\n",
        "print(model_inputs[\"input_ids\"])\n",
        "\n",
        "# Tokenisasi teks input untuk mendapatkan daftar token\n",
        "tokens = tokenizer.tokenize(sequence)\n",
        "\n",
        "# Mengonversi token-token menjadi ID-ID yang sesuai dengan kamus tokenizer\n",
        "ids = tokenizer.convert_tokens_to_ids(tokens)\n",
        "\n",
        "# Mencetak ID-ID yang sesuai dengan token-token\n",
        "print(ids)"
      ],
      "metadata": {
        "colab": {
          "base_uri": "https://localhost:8080/"
        },
        "id": "J7BM7QUZfuB5",
        "outputId": "8299e0c6-f0f8-45f5-c703-2ecb9f5f7ef6"
      },
      "execution_count": 18,
      "outputs": [
        {
          "output_type": "stream",
          "name": "stdout",
          "text": [
            "[101, 1045, 1005, 2310, 2042, 3403, 2005, 1037, 17662, 12172, 2607, 2026, 2878, 2166, 1012, 102]\n",
            "[1045, 1005, 2310, 2042, 3403, 2005, 1037, 17662, 12172, 2607, 2026, 2878, 2166, 1012]\n"
          ]
        }
      ]
    },
    {
      "cell_type": "code",
      "source": [
        "# Mencetak teks yang direkonstruksi dari token input_ids menggunakan tokenizer\n",
        "print(tokenizer.decode(model_inputs[\"input_ids\"]))\n",
        "\n",
        "# Mencetak teks yang direkonstruksi dari daftar token ids menggunakan tokenizer\n",
        "print(tokenizer.decode(ids))"
      ],
      "metadata": {
        "colab": {
          "base_uri": "https://localhost:8080/"
        },
        "id": "QIfkisKxfwXG",
        "outputId": "fa3558f7-e861-480a-e1d8-0b7e9d32df35"
      },
      "execution_count": 19,
      "outputs": [
        {
          "output_type": "stream",
          "name": "stdout",
          "text": [
            "[CLS] i've been waiting for a huggingface course my whole life. [SEP]\n",
            "i've been waiting for a huggingface course my whole life.\n"
          ]
        }
      ]
    },
    {
      "cell_type": "code",
      "source": [
        "# Mengimpor pustaka PyTorch untuk pengelolaan tensor dan komputasi\n",
        "import torch\n",
        "\n",
        "# Mengimpor kelas-kelas yang diperlukan dari pustaka Transformers\n",
        "from transformers import AutoTokenizer, AutoModelForSequenceClassification\n",
        "\n",
        "# Menggunakan model yang telah dilatih sebelumnya untuk analisis sentimen dalam bahasa Inggris\n",
        "checkpoint = \"distilbert-base-uncased-finetuned-sst-2-english\"\n",
        "\n",
        "# Membuat objek tokenizer berdasarkan model yang telah dilatih sebelumnya\n",
        "# Tokenizer ini akan mengubah teks menjadi token yang sesuai dengan model yang digunakan\n",
        "tokenizer = AutoTokenizer.from_pretrained(checkpoint)\n",
        "\n",
        "# Membuat objek model yang sudah dilatih sebelumnya untuk klasifikasi urutan dalam bahasa Inggris\n",
        "# Model ini siap digunakan untuk tugas analisis sentimen\n",
        "model = AutoModelForSequenceClassification.from_pretrained(checkpoint)\n",
        "\n",
        "# Sekumpulan urutan teks yang akan diolah oleh model\n",
        "sequences = [\"I've been waiting for a HuggingFace course my whole life.\", \"So have I!\"]\n",
        "\n",
        "# Menggunakan tokenizer untuk mengonversi urutan teks menjadi token-token yang dapat dipahami oleh model\n",
        "# Padding dan truncation memastikan semua urutan memiliki panjang yang konsisten, return_tensors=\"pt\" mengembalikan tensor PyTorch\n",
        "tokens = tokenizer(sequences, padding=True, truncation=True, return_tensors=\"pt\")\n",
        "\n",
        "# Memasukkan token-token ke dalam model untuk mendapatkan output\n",
        "# Model akan memberikan output yang bisa digunakan untuk analisis sentimen atau klasifikasi urutan lainnya\n",
        "output = model(**tokens)\n"
      ],
      "metadata": {
        "id": "gkfc0NoJgSUu"
      },
      "execution_count": 20,
      "outputs": []
    }
  ]
}